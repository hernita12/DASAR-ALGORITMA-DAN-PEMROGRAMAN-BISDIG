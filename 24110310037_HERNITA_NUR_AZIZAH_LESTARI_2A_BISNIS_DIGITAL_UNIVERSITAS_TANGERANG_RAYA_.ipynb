{
  "nbformat": 4,
  "nbformat_minor": 0,
  "metadata": {
    "colab": {
      "provenance": [],
      "authorship_tag": "ABX9TyO1fyOhjGDj+dwjLCkJDyrL",
      "include_colab_link": true
    },
    "kernelspec": {
      "name": "python3",
      "display_name": "Python 3"
    },
    "language_info": {
      "name": "python"
    }
  },
  "cells": [
    {
      "cell_type": "markdown",
      "metadata": {
        "id": "view-in-github",
        "colab_type": "text"
      },
      "source": [
        "<a href=\"https://colab.research.google.com/github/hernita12/DASAR-ALGORITMA-DAN-PEMROGRAMAN-BISDIG/blob/main/24110310037_HERNITA_NUR_AZIZAH_LESTARI_2A_BISNIS_DIGITAL_UNIVERSITAS_TANGERANG_RAYA_.ipynb\" target=\"_parent\"><img src=\"https://colab.research.google.com/assets/colab-badge.svg\" alt=\"Open In Colab\"/></a>"
      ]
    },
    {
      "cell_type": "code",
      "execution_count": 1,
      "metadata": {
        "colab": {
          "base_uri": "https://localhost:8080/"
        },
        "id": "Lazv_2GstZDD",
        "outputId": "e83efdf4-79b3-45b3-e149-5fa58634c1eb"
      },
      "outputs": [
        {
          "output_type": "stream",
          "name": "stdout",
          "text": [
            "Masukkan angka (bilangan bulat non-negatif): 5\n",
            "Faktorial dari 5 adalah 120.\n"
          ]
        }
      ],
      "source": [
        "def factorial(n):\n",
        "    \"\"\"\n",
        "    Menghitung faktorial dari bilangan n secara rekursif.\n",
        "\n",
        "    Parameter:\n",
        "    n (int): Bilangan bulat non-negatif\n",
        "\n",
        "    Returns:\n",
        "    int: Faktorial dari n\n",
        "    \"\"\"\n",
        "    if n == 0 or n == 1:\n",
        "        return 1\n",
        "    else:\n",
        "        return n * factorial(n - 1)\n",
        "\n",
        "def main():\n",
        "    try:\n",
        "        angka = int(input(\"Masukkan angka (bilangan bulat non-negatif): \"))\n",
        "        if angka < 0:\n",
        "            print(\"Error: Masukkan angka non-negatif.\")\n",
        "            return\n",
        "        hasil = factorial(angka)\n",
        "        print(f\"Faktorial dari {angka} adalah {hasil}.\")\n",
        "    except ValueError:\n",
        "        print(\"Error: Masukkan input yang valid (bilangan bulat).\")\n",
        "\n",
        "if __name__ == \"__main__\":\n",
        "    main()\n",
        "\n"
      ]
    }
  ]
}